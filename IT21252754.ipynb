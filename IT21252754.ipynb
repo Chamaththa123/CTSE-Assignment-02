{
 "cells": [
  {
   "cell_type": "code",
   "execution_count": 1,
   "id": "bbef91eb-b7b8-4b7c-b19f-1c188f839aa8",
   "metadata": {},
   "outputs": [
    {
     "name": "stdout",
     "output_type": "stream",
     "text": [
      "Requirement already satisfied: langchain in d:\\opencv\\lib\\site-packages (0.3.24)\n",
      "Requirement already satisfied: sentence-transformers in d:\\opencv\\lib\\site-packages (4.1.0)\n",
      "Requirement already satisfied: faiss-cpu in d:\\opencv\\lib\\site-packages (1.11.0)\n",
      "Requirement already satisfied: transformers in d:\\opencv\\lib\\site-packages (4.51.3)\n",
      "Requirement already satisfied: langchain-core<1.0.0,>=0.3.55 in d:\\opencv\\lib\\site-packages (from langchain) (0.3.56)\n",
      "Requirement already satisfied: langchain-text-splitters<1.0.0,>=0.3.8 in d:\\opencv\\lib\\site-packages (from langchain) (0.3.8)\n",
      "Requirement already satisfied: langsmith<0.4,>=0.1.17 in d:\\opencv\\lib\\site-packages (from langchain) (0.3.38)\n",
      "Requirement already satisfied: pydantic<3.0.0,>=2.7.4 in d:\\opencv\\lib\\site-packages (from langchain) (2.11.4)\n",
      "Requirement already satisfied: SQLAlchemy<3,>=1.4 in d:\\opencv\\lib\\site-packages (from langchain) (2.0.34)\n",
      "Requirement already satisfied: requests<3,>=2 in d:\\opencv\\lib\\site-packages (from langchain) (2.32.3)\n",
      "Requirement already satisfied: PyYAML>=5.3 in d:\\opencv\\lib\\site-packages (from langchain) (6.0.1)\n",
      "Requirement already satisfied: tqdm in d:\\opencv\\lib\\site-packages (from sentence-transformers) (4.66.5)\n",
      "Requirement already satisfied: torch>=1.11.0 in d:\\opencv\\lib\\site-packages (from sentence-transformers) (2.7.0)\n",
      "Requirement already satisfied: scikit-learn in d:\\opencv\\lib\\site-packages (from sentence-transformers) (1.5.1)\n",
      "Requirement already satisfied: scipy in c:\\users\\chamaththa shamod\\appdata\\roaming\\python\\python312\\site-packages (from sentence-transformers) (1.11.3)\n",
      "Requirement already satisfied: huggingface-hub>=0.20.0 in d:\\opencv\\lib\\site-packages (from sentence-transformers) (0.30.2)\n",
      "Requirement already satisfied: Pillow in c:\\users\\chamaththa shamod\\appdata\\roaming\\python\\python312\\site-packages (from sentence-transformers) (10.1.0)\n",
      "Requirement already satisfied: typing_extensions>=4.5.0 in d:\\opencv\\lib\\site-packages (from sentence-transformers) (4.13.2)\n",
      "Requirement already satisfied: numpy<3.0,>=1.25.0 in c:\\users\\chamaththa shamod\\appdata\\roaming\\python\\python312\\site-packages (from faiss-cpu) (1.26.4)\n",
      "Requirement already satisfied: packaging in c:\\users\\chamaththa shamod\\appdata\\roaming\\python\\python312\\site-packages (from faiss-cpu) (23.2)\n",
      "Requirement already satisfied: filelock in d:\\opencv\\lib\\site-packages (from transformers) (3.13.1)\n",
      "Requirement already satisfied: regex!=2019.12.17 in d:\\opencv\\lib\\site-packages (from transformers) (2024.9.11)\n",
      "Requirement already satisfied: tokenizers<0.22,>=0.21 in d:\\opencv\\lib\\site-packages (from transformers) (0.21.1)\n",
      "Requirement already satisfied: safetensors>=0.4.3 in d:\\opencv\\lib\\site-packages (from transformers) (0.5.3)\n",
      "Requirement already satisfied: fsspec>=2023.5.0 in d:\\opencv\\lib\\site-packages (from huggingface-hub>=0.20.0->sentence-transformers) (2024.6.1)\n",
      "Requirement already satisfied: tenacity!=8.4.0,<10.0.0,>=8.1.0 in c:\\users\\chamaththa shamod\\appdata\\roaming\\python\\python312\\site-packages (from langchain-core<1.0.0,>=0.3.55->langchain) (8.2.3)\n",
      "Requirement already satisfied: jsonpatch<2.0,>=1.33 in d:\\opencv\\lib\\site-packages (from langchain-core<1.0.0,>=0.3.55->langchain) (1.33)\n",
      "Requirement already satisfied: httpx<1,>=0.23.0 in d:\\opencv\\lib\\site-packages (from langsmith<0.4,>=0.1.17->langchain) (0.27.0)\n",
      "Requirement already satisfied: orjson<4.0.0,>=3.9.14 in d:\\opencv\\lib\\site-packages (from langsmith<0.4,>=0.1.17->langchain) (3.10.18)\n",
      "Requirement already satisfied: requests-toolbelt<2.0.0,>=1.0.0 in d:\\opencv\\lib\\site-packages (from langsmith<0.4,>=0.1.17->langchain) (1.0.0)\n",
      "Requirement already satisfied: zstandard<0.24.0,>=0.23.0 in d:\\opencv\\lib\\site-packages (from langsmith<0.4,>=0.1.17->langchain) (0.23.0)\n",
      "Requirement already satisfied: annotated-types>=0.6.0 in d:\\opencv\\lib\\site-packages (from pydantic<3.0.0,>=2.7.4->langchain) (0.6.0)\n",
      "Requirement already satisfied: pydantic-core==2.33.2 in d:\\opencv\\lib\\site-packages (from pydantic<3.0.0,>=2.7.4->langchain) (2.33.2)\n",
      "Requirement already satisfied: typing-inspection>=0.4.0 in d:\\opencv\\lib\\site-packages (from pydantic<3.0.0,>=2.7.4->langchain) (0.4.0)\n",
      "Requirement already satisfied: charset-normalizer<4,>=2 in d:\\opencv\\lib\\site-packages (from requests<3,>=2->langchain) (3.3.2)\n",
      "Requirement already satisfied: idna<4,>=2.5 in d:\\opencv\\lib\\site-packages (from requests<3,>=2->langchain) (3.7)\n",
      "Requirement already satisfied: urllib3<3,>=1.21.1 in d:\\opencv\\lib\\site-packages (from requests<3,>=2->langchain) (2.2.3)\n",
      "Requirement already satisfied: certifi>=2017.4.17 in d:\\opencv\\lib\\site-packages (from requests<3,>=2->langchain) (2024.8.30)\n",
      "Requirement already satisfied: greenlet!=0.4.17 in d:\\opencv\\lib\\site-packages (from SQLAlchemy<3,>=1.4->langchain) (3.0.1)\n",
      "Requirement already satisfied: sympy>=1.13.3 in d:\\opencv\\lib\\site-packages (from torch>=1.11.0->sentence-transformers) (1.14.0)\n",
      "Requirement already satisfied: networkx in d:\\opencv\\lib\\site-packages (from torch>=1.11.0->sentence-transformers) (3.3)\n",
      "Requirement already satisfied: jinja2 in c:\\users\\chamaththa shamod\\appdata\\roaming\\python\\python312\\site-packages (from torch>=1.11.0->sentence-transformers) (3.1.2)\n",
      "Requirement already satisfied: setuptools in d:\\opencv\\lib\\site-packages (from torch>=1.11.0->sentence-transformers) (75.1.0)\n",
      "Requirement already satisfied: colorama in c:\\users\\chamaththa shamod\\appdata\\roaming\\python\\python312\\site-packages (from tqdm->sentence-transformers) (0.4.6)\n",
      "Requirement already satisfied: joblib>=1.2.0 in d:\\opencv\\lib\\site-packages (from scikit-learn->sentence-transformers) (1.4.2)\n",
      "Requirement already satisfied: threadpoolctl>=3.1.0 in d:\\opencv\\lib\\site-packages (from scikit-learn->sentence-transformers) (3.5.0)\n",
      "Requirement already satisfied: anyio in d:\\opencv\\lib\\site-packages (from httpx<1,>=0.23.0->langsmith<0.4,>=0.1.17->langchain) (4.2.0)\n",
      "Requirement already satisfied: httpcore==1.* in d:\\opencv\\lib\\site-packages (from httpx<1,>=0.23.0->langsmith<0.4,>=0.1.17->langchain) (1.0.2)\n",
      "Requirement already satisfied: sniffio in d:\\opencv\\lib\\site-packages (from httpx<1,>=0.23.0->langsmith<0.4,>=0.1.17->langchain) (1.3.0)\n",
      "Requirement already satisfied: h11<0.15,>=0.13 in d:\\opencv\\lib\\site-packages (from httpcore==1.*->httpx<1,>=0.23.0->langsmith<0.4,>=0.1.17->langchain) (0.14.0)\n",
      "Requirement already satisfied: jsonpointer>=1.9 in d:\\opencv\\lib\\site-packages (from jsonpatch<2.0,>=1.33->langchain-core<1.0.0,>=0.3.55->langchain) (2.1)\n",
      "Requirement already satisfied: mpmath<1.4,>=1.1.0 in d:\\opencv\\lib\\site-packages (from sympy>=1.13.3->torch>=1.11.0->sentence-transformers) (1.3.0)\n",
      "Requirement already satisfied: MarkupSafe>=2.0 in c:\\users\\chamaththa shamod\\appdata\\roaming\\python\\python312\\site-packages (from jinja2->torch>=1.11.0->sentence-transformers) (2.1.3)\n"
     ]
    },
    {
     "name": "stderr",
     "output_type": "stream",
     "text": [
      "WARNING: Ignoring invalid distribution ~umpy (D:\\opencv\\Lib\\site-packages)\n",
      "WARNING: Ignoring invalid distribution ~umpy (D:\\opencv\\Lib\\site-packages)\n",
      "WARNING: Ignoring invalid distribution ~umpy (D:\\opencv\\Lib\\site-packages)\n"
     ]
    }
   ],
   "source": [
    "\n",
    "# Install required packages\n",
    "!pip install langchain sentence-transformers faiss-cpu transformers"
   ]
  },
  {
   "cell_type": "code",
   "execution_count": 1,
   "id": "302e9626-d2e7-474f-afb5-56e90b854b51",
   "metadata": {},
   "outputs": [
    {
     "name": "stdout",
     "output_type": "stream",
     "text": [
      "Loaded 14 documents\n"
     ]
    }
   ],
   "source": [
    "from langchain.document_loaders import PyPDFLoader\n",
    "\n",
    "loader = PyPDFLoader(\"Microservice_Note.pdf\")\n",
    "documents = loader.load()\n",
    "print(f\"Loaded {len(documents)} documents\")\n"
   ]
  },
  {
   "cell_type": "code",
   "execution_count": 2,
   "id": "f796fe71-0e39-4895-b61f-33c88bf8da40",
   "metadata": {},
   "outputs": [
    {
     "name": "stdout",
     "output_type": "stream",
     "text": [
      "Split into 14 chunks\n"
     ]
    }
   ],
   "source": [
    "from langchain.text_splitter import RecursiveCharacterTextSplitter\n",
    "\n",
    "text_splitter = RecursiveCharacterTextSplitter(chunk_size=1500, chunk_overlap=300)\n",
    "docs = text_splitter.split_documents(documents)\n",
    "print(f\"Split into {len(docs)} chunks\")\n"
   ]
  },
  {
   "cell_type": "code",
   "execution_count": 3,
   "id": "31815e62-3093-4a4c-acd2-cad417085723",
   "metadata": {},
   "outputs": [
    {
     "name": "stderr",
     "output_type": "stream",
     "text": [
      "C:\\Users\\Chamaththa Shamod\\AppData\\Local\\Temp\\ipykernel_2676\\3223757572.py:4: LangChainDeprecationWarning: The class `HuggingFaceEmbeddings` was deprecated in LangChain 0.2.2 and will be removed in 1.0. An updated version of the class exists in the :class:`~langchain-huggingface package and should be used instead. To use it run `pip install -U :class:`~langchain-huggingface` and import as `from :class:`~langchain_huggingface import HuggingFaceEmbeddings``.\n",
      "  embedding_model = HuggingFaceEmbeddings(model_name=\"sentence-transformers/all-MiniLM-L6-v2\")\n"
     ]
    },
    {
     "name": "stdout",
     "output_type": "stream",
     "text": [
      "Vector store created and saved locally.\n"
     ]
    }
   ],
   "source": [
    "from langchain.vectorstores import FAISS\n",
    "from langchain.embeddings import HuggingFaceEmbeddings\n",
    "\n",
    "embedding_model = HuggingFaceEmbeddings(model_name=\"sentence-transformers/all-MiniLM-L6-v2\")\n",
    "vectorstore = FAISS.from_documents(docs, embedding_model)\n",
    "\n",
    "vectorstore.save_local(\"ctse_vectorstore\")\n",
    "print(\"Vector store created and saved locally.\")"
   ]
  },
  {
   "cell_type": "code",
   "execution_count": 4,
   "id": "82c155ea-1450-4c8c-80b5-57fcb71cfd18",
   "metadata": {},
   "outputs": [
    {
     "name": "stdout",
     "output_type": "stream",
     "text": [
      "Vector store loaded.\n"
     ]
    }
   ],
   "source": [
    "vectorstore = FAISS.load_local(\n",
    "    \"ctse_vectorstore\",\n",
    "    embedding_model,\n",
    "    allow_dangerous_deserialization=True\n",
    ")\n",
    "print(\"Vector store loaded.\")\n"
   ]
  },
  {
   "cell_type": "code",
   "execution_count": 5,
   "id": "08558b59-b699-43ab-9bcb-32d2b2c635b8",
   "metadata": {},
   "outputs": [
    {
     "name": "stdout",
     "output_type": "stream",
     "text": [
      "\n",
      "Top 3 relevant chunks:\n",
      "\n",
      "Chunk 1:\n",
      " Monolithic Applications\n",
      "• Basic Structure\n",
      "• Single-Tiered Structure: Built as a single, unified unit.\n",
      "• Combined Modules: Functional modules like UI, server logic, and database interactions are \n",
      "combined.\n",
      "• Design and Construction\n",
      "• Modular Architecture: Follows a modular structure within a single unit, aligning with object-\n",
      "oriented principles.\n",
      "• Programming Constructs: Defined using language-specific constructs (e.g., Java packages).\n",
      "• Build Artifacts: Built as a single artifact, such as a Java JAR file.\n",
      "• Characteristics\n",
      "• Inter-module Dependencies: Modules are tightly coupled and interdependent.\n",
      "• Unified Deployment: Deployed as a single entity.\n",
      "• Scalability\n",
      "• Scalability Approach: Scaling involves replicating the entire application, not individual \n",
      "components.\n",
      "\n",
      "Chunk 2:\n",
      " • Benefits of Monolithic Architecture\n",
      "• Simplified Testing: Tools like Selenium enable end-to-end testing of the entire application.\n",
      "• Ease of Deployment: Deployment involves simply copying the packaged application to a \n",
      "server.\n",
      "• Resource Sharing: All modules share memory, space, and resources, streamlining cross-\n",
      "cutting concerns like logging, caching, and security.\n",
      "• Intra-Process Communication: Direct module-to-module calls can offer performance \n",
      "advantages over network-dependent microservices.\n",
      "• Challenges of Monolithic Architecture\n",
      "• Scalability Issues: Difficulty in scaling when different modules have conflicting resource \n",
      "requirements.\n",
      "• Complexity in Maintenance and Updates: As the application grows, implementing changes \n",
      "becomes more complicated due to tightly coupled modules.\n",
      "• CI/CD Complications: Continuous integration and deployment become challenging as any \n",
      "update requires redeploying the entire application.\n",
      "• Vulnerability to System Failures: A bug in any module, like a memory leak, can crash the \n",
      "entire system.\n",
      "• Technological Rigidity: Adopting new frameworks or languages is costly and time-consuming, \n",
      "as it often requires rewriting the entire application.\n",
      "\n",
      "Chunk 3:\n",
      " Benefits of Microservices Architecture\n",
      "Aspect Benefit Details\n",
      "Enhanced Development and Maintenance\n",
      "- Breaks application into smaller, manageable chunks.\n",
      "- Clear boundaries with defined APIs.\n",
      "- Quicker development, easier understanding and maintenance.\n",
      "Team Autonomy and Efficiency\n",
      "- Independent development of services by teams.\n",
      "- Full lifecycle ownership of services.\n",
      "- Flexibility to use different programming languages (Polyglot Development).\n",
      "Improved Scalability and Market \n",
      "Responsiveness\n",
      "- Independent scaling based on service needs.\n",
      "- Hardware optimization for resource requirements.\n",
      "- Faster product delivery and improved time to market.\n"
     ]
    }
   ],
   "source": [
    "query = \"explain Benefits of Monolithic Architecture?\"\n",
    "results = vectorstore.similarity_search(query, k=3)\n",
    "print(\"\\nTop 3 relevant chunks:\")\n",
    "for idx, res in enumerate(results, 1):\n",
    "    print(f\"\\nChunk {idx}:\\n\", res.page_content)\n"
   ]
  },
  {
   "cell_type": "code",
   "execution_count": 8,
   "id": "5d6020d2-132b-4020-b6f3-cb8c88a46ef4",
   "metadata": {},
   "outputs": [
    {
     "name": "stderr",
     "output_type": "stream",
     "text": [
      "Device set to use cpu\n",
      "Token indices sequence length is longer than the specified maximum sequence length for this model (839 > 512). Running this sequence through the model will result in indexing errors\n"
     ]
    },
    {
     "name": "stdout",
     "output_type": "stream",
     "text": [
      "\n",
      "Sample answer:\n",
      " Simplified Testing\n"
     ]
    },
    {
     "name": "stdin",
     "output_type": "stream",
     "text": [
      "\n",
      "Question:  what is the microservices architecture?\n"
     ]
    },
    {
     "name": "stdout",
     "output_type": "stream",
     "text": [
      "\n",
      "Bot: Breaks application into smaller, manageable chunks. - Clear boundaries with defined APIs. - Quicker development, easier understanding and maintenance. Team Autonomy and Efficiency - Independent development of services by teams. - Full lifecycle ownership of services. - Flexibility to use different programming languages (Polyglot Development). Improved Scalability and Market Responsiveness - Independent scaling based on service needs. - Hardware optimization for resource requirements. - Faster product delivery and improved time to market.\n",
      "\n",
      "\n"
     ]
    },
    {
     "name": "stdin",
     "output_type": "stream",
     "text": [
      "\n",
      "Question:  List at least 5 characteristics of Monolithic Applications\n"
     ]
    },
    {
     "name": "stdout",
     "output_type": "stream",
     "text": [
      "\n",
      "Bot: Inter-module Dependencies: Modules are tightly coupled and interdependent.\n",
      "\n",
      "\n"
     ]
    },
    {
     "name": "stdin",
     "output_type": "stream",
     "text": [
      "\n",
      "Question:  List Challenges of Monolithic Architecture\n"
     ]
    },
    {
     "name": "stdout",
     "output_type": "stream",
     "text": [
      "\n",
      "Bot: Scalability Issues: Difficulty in scaling when different modules have conflicting resource requirements. Complexity in Maintenance and Updates: As the application grows, implementing changes becomes more complicated due to tightly coupled modules.\n",
      "\n",
      "\n"
     ]
    },
    {
     "name": "stdin",
     "output_type": "stream",
     "text": [
      "\n",
      "Question:  explain Database Relationship in microservice Architecture\n"
     ]
    },
    {
     "name": "stdout",
     "output_type": "stream",
     "text": [
      "\n",
      "Bot: Each microservice has its own database tailored to its requirements\n",
      "\n",
      "\n"
     ]
    },
    {
     "name": "stdin",
     "output_type": "stream",
     "text": [
      "\n",
      "Question:  list  Benefits of microservice Architecture.\n"
     ]
    },
    {
     "name": "stdout",
     "output_type": "stream",
     "text": [
      "\n",
      "Bot: Enhanced Development and Maintenance - Breaks application into smaller, manageable chunks. - Clear boundaries with defined APIs. - Quicker development, easier understanding and maintenance. Team Autonomy and Efficiency - Independent development of services by teams. - Full lifecycle ownership of services. - Flexibility to use different programming languages (Polyglot Development). Improved Scalability and Market Responsiveness - Independent scaling based on service needs. - Hardware optimization for resource requirements. - Faster product delivery and improved time to market.\n",
      "\n",
      "\n"
     ]
    },
    {
     "name": "stdin",
     "output_type": "stream",
     "text": [
      "\n",
      "Question:  exit\n"
     ]
    },
    {
     "name": "stdout",
     "output_type": "stream",
     "text": [
      "Session ended.\n"
     ]
    }
   ],
   "source": [
    "from transformers import pipeline\n",
    "from langchain.llms import HuggingFacePipeline\n",
    "from langchain.chains import RetrievalQA\n",
    "\n",
    "qa_pipe = pipeline(\"text2text-generation\", model=\"google/flan-t5-large\", max_new_tokens=600)\n",
    "llm = HuggingFacePipeline(pipeline=qa_pipe)\n",
    "\n",
    "retriever = vectorstore.as_retriever(search_kwargs={\"k\": 5})\n",
    "qa_chain = RetrievalQA.from_chain_type(llm=llm, retriever=retriever)\n",
    "\n",
    "test_answer = qa_chain.run(query)\n",
    "print(\"\\nSample answer:\\n\", test_answer)\n",
    "\n",
    "while True:\n",
    "    user_input = input(\"\\nQuestion: \")\n",
    "    if user_input.lower() == 'exit':\n",
    "        print(\"Session ended.\")\n",
    "        break\n",
    "    prompt = f\"List all relevant points in detail: {user_input}\"\n",
    "    response = qa_chain.run(prompt)\n",
    "    print(\"\\nBot:\", response)\n",
    "    print(\"\\n\")\n"
   ]
  },
  {
   "cell_type": "code",
   "execution_count": null,
   "id": "045fcce8-e41e-4762-ad03-f4cefff020bd",
   "metadata": {},
   "outputs": [],
   "source": []
  }
 ],
 "metadata": {
  "kernelspec": {
   "display_name": "Python 3 (ipykernel)",
   "language": "python",
   "name": "python3"
  },
  "language_info": {
   "codemirror_mode": {
    "name": "ipython",
    "version": 3
   },
   "file_extension": ".py",
   "mimetype": "text/x-python",
   "name": "python",
   "nbconvert_exporter": "python",
   "pygments_lexer": "ipython3",
   "version": "3.12.7"
  }
 },
 "nbformat": 4,
 "nbformat_minor": 5
}
